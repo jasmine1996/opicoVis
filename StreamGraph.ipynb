{
 "cells": [
  {
   "cell_type": "code",
   "execution_count": 3,
   "metadata": {
    "collapsed": true
   },
   "outputs": [],
   "source": [
    "import csv\n",
    "import json\n",
    "import emoji\n",
    "import regex\n",
    "from collections import OrderedDict\n",
    "from emojiCategories import EMOJI_CATEGORIES\n",
    "from emojiCategories import GENERAL_CATEGORIES\n",
    "from datetime import date, datetime\n",
    "import calendar\n",
    "\n",
    "GENERAL_CATEGORIES['body'][\"☝\"] = \"index pointing up\"\n",
    "GENERAL_CATEGORIES['body'][\"✌️\"] = \"victory hand\"\n",
    "GENERAL_CATEGORIES['body'][\"✍\"] = \"writing hand\"\n",
    "GENERAL_CATEGORIES['person'][\"🗣\"] = \"speaking head\"\n",
    "GENERAL_CATEGORIES['face'][\"☺\"] = \"smiling face\"\n",
    "GENERAL_CATEGORIES['face'][\"☹\"] = \"frowning face\"\n",
    "GENERAL_CATEGORIES['food'][\"🌶\"] = \"hot pepper\"\n",
    "GENERAL_CATEGORIES['symbol'][\"❤\"] = \"heart\"\n",
    "GENERAL_CATEGORIES['object'][\"🍽\"] = \"eating utensils\"\n",
    "\n",
    "def extract_emojis(review):\n",
    "    list = []\n",
    "    str = regex.findall(r'\\X', review)\n",
    "    print(len(str))\n",
    "    for e in review:\n",
    "        if any(char in emoji.UNICODE_EMOJI for char in e):\n",
    "            list.append(e)\n",
    "    return list\n",
    "flagLetters = ['🇦', '🇧', '🇨', '🇩', '🇪', '🇫', '🇬', '🇭', '🇮', '🇯', '🇰', '🇱', '🇲', '🇳', '🇴', '🇵', '🇶', '🇷', '🇸', '🇹', '🇺', '🇻', '🇼', '🇽', '🇾', '🇿']\n",
    "flagSet = set(flagLetters)"
   ]
  },
  {
   "cell_type": "code",
   "execution_count": 30,
   "metadata": {},
   "outputs": [],
   "source": [
    "# list of all emojis (1344), won't change\n",
    "allEmojiList = list(emojiTimeDict.keys())"
   ]
  },
  {
   "cell_type": "code",
   "execution_count": 45,
   "metadata": {},
   "outputs": [],
   "source": [
    "# initialize month dict to contain counts of all emojis\n",
    "allMonthDict = getNewMonthDict()\n",
    "for m in allMonthDict.keys():\n",
    "    for emj in allEmojiList:\n",
    "        allMonthDict[m][emj] = 0"
   ]
  },
  {
   "cell_type": "code",
   "execution_count": 46,
   "metadata": {},
   "outputs": [],
   "source": [
    "# count occurrences of emojis in corresponding months\n",
    "lineNumber = 0\n",
    "with open(\"Emoji Reviews.csv\", mode='r', encoding='utf-8') as csv_file:\n",
    "    csv_reader = csv.reader(csv_file, delimiter=',')\n",
    "    for row in csv_reader:\n",
    "        if lineNumber > 0:\n",
    "            emojiList = regex.findall(r'\\X', row[0])\n",
    "            i = 0\n",
    "            while i < len(emojiList):\n",
    "                emj = emojiList[i]\n",
    "                emj = emj.encode('utf-16', 'surrogatepass').decode('utf-16')  # probably not necessary\n",
    "                if emj in flagSet:\n",
    "                    nextEmj = emojiList[i+1]\n",
    "                    nextEmj = nextEmj.encode('utf-16', 'surrogatepass').decode('utf-16')\n",
    "                    emj = emj + nextEmj\n",
    "                    i += 1\n",
    "                monthStamp = convertToPosix(row[3][:7])\n",
    "                if monthStamp in allMonthDict:\n",
    "                    allMonthDict[monthStamp][emj] += 1\n",
    "                i += 1\n",
    "        lineNumber += 1"
   ]
  },
  {
   "cell_type": "code",
   "execution_count": 64,
   "metadata": {},
   "outputs": [],
   "source": [
    "topMonthDict = {}\n",
    "for month in allMonthDict.keys():\n",
    "    topMonthDict[month] = {}\n",
    "    for emoji in listOfTopEmojis:\n",
    "        topMonthDict[month][emoji] = 0\n",
    "    topMonthDict[month][\"other\"] = 0\n",
    "    topSet = getTop10Emojis(allMonthDict[month])\n",
    "    totalOther = 0\n",
    "    for kv in allMonthDict[month].items():\n",
    "        if kv[0] in topSet:\n",
    "            topMonthDict[month][kv[0]] = kv[1]\n",
    "        else:\n",
    "            totalOther += kv[1]\n",
    "    topMonthDict[month][\"other\"] = totalOther"
   ]
  },
  {
   "cell_type": "code",
   "execution_count": 67,
   "metadata": {},
   "outputs": [],
   "source": [
    "with open('All Top 10 Monthly Counts without other.csv', mode='w', encoding='utf-8', newline='') as file:\n",
    "    csv_writer = csv.writer(file, delimiter=',', quotechar='\"', quoting=csv.QUOTE_ALL)\n",
    "    csv_writer.writerow([\"month\"]+list(topMonthDict[1501545600].keys())[:-1])\n",
    "    for month in list(topMonthDict.keys()):\n",
    "        csv_writer.writerow([month*1000] + list(topMonthDict[month].values())[:-1])"
   ]
  },
  {
   "cell_type": "code",
   "execution_count": 56,
   "metadata": {
    "collapsed": true
   },
   "outputs": [],
   "source": [
    "def getTop10Emojis(eDict):\n",
    "    kvList = sorted(eDict.items(), key=lambda kv:(kv[1], kv[0]), reverse=True)[:10]\n",
    "    topSet = set()\n",
    "    for kv in kvList:\n",
    "        topSet.add(kv[0])\n",
    "    return topSet"
   ]
  },
  {
   "cell_type": "code",
   "execution_count": 11,
   "metadata": {},
   "outputs": [],
   "source": [
    "emojiTimeList = list(emojiTimeDict.values())\n",
    "emojiTimeList.sort(key=lambda x: x[\"count\"], reverse=True)"
   ]
  },
  {
   "cell_type": "code",
   "execution_count": 25,
   "metadata": {},
   "outputs": [],
   "source": [
    "monthCountsDict = getNewMonthDict()\n",
    "for emjObj in emojiTimeList[:10]:\n",
    "    emj = emjObj[\"emoji\"]\n",
    "    for monthKey in list(monthCountsDict.keys()):\n",
    "        monthCountsDict[monthKey][emj] = 0\n",
    "    for d in emjObj['dates']:\n",
    "        monthCountsDict[d][emj] += 1"
   ]
  },
  {
   "cell_type": "code",
   "execution_count": 26,
   "metadata": {},
   "outputs": [
    {
     "name": "stdout",
     "output_type": "stream",
     "text": [
      "{1488326400: {'😍': 0, '😋': 0, '👍': 0, '☕': 0, '🤤': 0, '👌': 0, '🥗': 0, '🍜': 0, '🍔': 0, '🍺': 0}, 1491004800: {'😍': 0, '😋': 0, '👍': 0, '☕': 0, '🤤': 0, '👌': 0, '🥗': 0, '🍜': 0, '🍔': 0, '🍺': 0}, 1493596800: {'😍': 0, '😋': 0, '👍': 0, '☕': 0, '🤤': 0, '👌': 0, '🥗': 0, '🍜': 0, '🍔': 0, '🍺': 0}, 1496275200: {'😍': 0, '😋': 0, '👍': 0, '☕': 0, '🤤': 0, '👌': 0, '🥗': 0, '🍜': 0, '🍔': 0, '🍺': 0}, 1498867200: {'😍': 0, '😋': 0, '👍': 0, '☕': 0, '🤤': 0, '👌': 0, '🥗': 0, '🍜': 0, '🍔': 0, '🍺': 0}, 1501545600: {'😍': 18, '😋': 2, '👍': 2, '☕': 0, '🤤': 0, '👌': 1, '🥗': 0, '🍜': 3, '🍔': 3, '🍺': 1}, 1504224000: {'😍': 24, '😋': 9, '👍': 20, '☕': 15, '🤤': 0, '👌': 26, '🥗': 0, '🍜': 11, '🍔': 5, '🍺': 2}, 1506816000: {'😍': 69, '😋': 10, '👍': 16, '☕': 14, '🤤': 36, '👌': 6, '🥗': 13, '🍜': 12, '🍔': 12, '🍺': 7}, 1509494400: {'😍': 97, '😋': 40, '👍': 74, '☕': 64, '🤤': 43, '👌': 28, '🥗': 20, '🍜': 32, '🍔': 28, '🍺': 24}, 1512086400: {'😍': 71, '😋': 51, '👍': 75, '☕': 42, '🤤': 32, '👌': 35, '🥗': 14, '🍜': 21, '🍔': 24, '🍺': 23}, 1514764800: {'😍': 25, '😋': 42, '👍': 19, '☕': 18, '🤤': 17, '👌': 17, '🥗': 11, '🍜': 9, '🍔': 10, '🍺': 8}, 1517443200: {'😍': 69, '😋': 50, '👍': 47, '☕': 26, '🤤': 10, '👌': 27, '🥗': 15, '🍜': 23, '🍔': 23, '🍺': 9}, 1519862400: {'😍': 84, '😋': 76, '👍': 72, '☕': 65, '🤤': 18, '👌': 28, '🥗': 29, '🍜': 24, '🍔': 40, '🍺': 23}, 1522540800: {'😍': 53, '😋': 50, '👍': 54, '☕': 52, '🤤': 27, '👌': 24, '🥗': 29, '🍜': 14, '🍔': 14, '🍺': 18}, 1525132800: {'😍': 53, '😋': 91, '👍': 73, '☕': 40, '🤤': 19, '👌': 21, '🥗': 27, '🍜': 18, '🍔': 25, '🍺': 23}, 1527811200: {'😍': 20, '😋': 42, '👍': 40, '☕': 21, '🤤': 11, '👌': 5, '🥗': 12, '🍜': 7, '🍔': 10, '🍺': 10}, 1530403200: {'😍': 40, '😋': 31, '👍': 33, '☕': 30, '🤤': 15, '👌': 26, '🥗': 20, '🍜': 17, '🍔': 6, '🍺': 19}, 1533081600: {'😍': 24, '😋': 38, '👍': 28, '☕': 32, '🤤': 13, '👌': 8, '🥗': 12, '🍜': 6, '🍔': 6, '🍺': 12}, 1535760000: {'😍': 33, '😋': 30, '👍': 16, '☕': 22, '🤤': 12, '👌': 6, '🥗': 8, '🍜': 8, '🍔': 4, '🍺': 5}, 1538352000: {'😍': 31, '😋': 34, '👍': 28, '☕': 15, '🤤': 12, '👌': 3, '🥗': 11, '🍜': 7, '🍔': 1, '🍺': 4}, 1541030400: {'😍': 17, '😋': 30, '👍': 11, '☕': 21, '🤤': 8, '👌': 8, '🥗': 3, '🍜': 10, '🍔': 2, '🍺': 3}, 1543622400: {'😍': 10, '😋': 26, '👍': 23, '☕': 30, '🤤': 6, '👌': 7, '🥗': 8, '🍜': 7, '🍔': 11, '🍺': 26}, 1546300800: {'😍': 9, '😋': 19, '👍': 7, '☕': 11, '🤤': 4, '👌': 2, '🥗': 3, '🍜': 3, '🍔': 2, '🍺': 5}, 1548979200: {'😍': 4, '😋': 9, '👍': 12, '☕': 4, '🤤': 4, '👌': 1, '🥗': 2, '🍜': 0, '🍔': 1, '🍺': 2}}\n"
     ]
    }
   ],
   "source": [
    "print(monthCountsDict)"
   ]
  },
  {
   "cell_type": "code",
   "execution_count": 27,
   "metadata": {},
   "outputs": [],
   "source": [
    "with open('Top 10 Monthly Counts.csv', mode='w', encoding='utf-8', newline='') as file:\n",
    "    csv_writer = csv.writer(file, delimiter=',', quotechar='\"', quoting=csv.QUOTE_ALL)\n",
    "    csv_writer.writerow([\"month\"]+list(monthCountsDict[1488326400].keys()))\n",
    "    for month in list(monthCountsDict.keys()):\n",
    "        csv_writer.writerow([month*1000] + list(monthCountsDict[month].values()))"
   ]
  },
  {
   "cell_type": "code",
   "execution_count": 44,
   "metadata": {
    "collapsed": true
   },
   "outputs": [],
   "source": [
    "def getEmojisInCategory(category):\n",
    "    emojiDict = {}\n",
    "    for emj in list(emojiTimeDict.keys()):\n",
    "        if emj in EMOJI_CATEGORIES[category]:\n",
    "            emojiDict[emj] = emojiTimeDict[emj]\n",
    "    return emojiDict\n",
    "\n",
    "def convertToPosix(dateString):\n",
    "    utc_date = datetime.strptime(dateString, \"%Y-%m\").date()\n",
    "    return calendar.timegm(utc_date.timetuple())\n",
    "\n",
    "def getNewMonthDict():\n",
    "    monthDict = {}\n",
    "    for y in range(2017, 2020):\n",
    "        for m in range(1, 13):\n",
    "            if y == 2017 and m < 8:\n",
    "                continue\n",
    "            if y == 2019 and m > 2:\n",
    "                continue\n",
    "            stamp = convertToPosix(str(y)+\"-\"+str(m))\n",
    "            monthDict[stamp] = {}\n",
    "    return monthDict"
   ]
  },
  {
   "cell_type": "code",
   "execution_count": 3,
   "metadata": {
    "collapsed": true
   },
   "outputs": [],
   "source": []
  },
  {
   "cell_type": "code",
   "execution_count": 52,
   "metadata": {
    "collapsed": true
   },
   "outputs": [],
   "source": [
    "category = 'food-asian'\n",
    "posFaceDict = getEmojisInCategory(category)\n",
    "monthCountsDict = getNewMonthDict()\n",
    "for emj in list(posFaceDict.keys()):\n",
    "    emjObj = posFaceDict[emj]\n",
    "    for monthKey in list(monthCountsDict.keys()):\n",
    "        monthCountsDict[monthKey][emj] = 0\n",
    "    for d in emjObj['dates_ms']:\n",
    "        monthCountsDict[d][emj] += 1\n",
    "with open(category + ' Monthly Counts.csv', mode='w', encoding='utf-8', newline='') as file:\n",
    "    csv_writer = csv.writer(file, delimiter=',', quotechar='\"', quoting=csv.QUOTE_ALL)\n",
    "    csv_writer.writerow([\"month\"]+list(posFaceDict.keys()))\n",
    "    for month in list(monthCountsDict.keys()):\n",
    "        csv_writer.writerow([month*1000] + list(monthCountsDict[month].values()))"
   ]
  },
  {
   "cell_type": "code",
   "execution_count": 49,
   "metadata": {
    "collapsed": true
   },
   "outputs": [],
   "source": []
  },
  {
   "cell_type": "code",
   "execution_count": 36,
   "metadata": {},
   "outputs": [
    {
     "name": "stdout",
     "output_type": "stream",
     "text": [
      "dict_keys([1488326400, 1491004800, 1493596800, 1496275200, 1498867200, 1501545600, 1504224000, 1506816000, 1509494400, 1512086400, 1514764800, 1517443200, 1519862400, 1522540800, 1525132800, 1527811200, 1530403200, 1533081600, 1535760000, 1538352000, 1541030400, 1543622400, 1546300800, 1548979200])\n"
     ]
    }
   ],
   "source": [
    "print(monthCountsDict.keys())"
   ]
  },
  {
   "cell_type": "code",
   "execution_count": null,
   "metadata": {
    "collapsed": true
   },
   "outputs": [],
   "source": [
    "#2017-03 to 2019-02"
   ]
  },
  {
   "cell_type": "code",
   "execution_count": 12,
   "metadata": {},
   "outputs": [
    {
     "name": "stdout",
     "output_type": "stream",
     "text": [
      "dict_keys(['face', 'person', 'body', 'symbol', 'nature', 'food', 'object', 'place', 'transport', 'flag', 'other'])\n"
     ]
    }
   ],
   "source": [
    "print(GENERAL_CATEGORIES.keys())"
   ]
  },
  {
   "cell_type": "code",
   "execution_count": 4,
   "metadata": {
    "collapsed": true
   },
   "outputs": [],
   "source": []
  },
  {
   "cell_type": "code",
   "execution_count": 4,
   "metadata": {
    "collapsed": true
   },
   "outputs": [],
   "source": [
    "emojiCatDict = {}\n",
    "toBeAdded = {}\n",
    "lineNumber = 0\n",
    "with open(\"Emoji Reviews.csv\", mode='r', encoding='utf-8') as csv_file:\n",
    "    csv_reader = csv.reader(csv_file, delimiter=',')\n",
    "    for row in csv_reader:\n",
    "        if lineNumber > 0:\n",
    "            emojiList = regex.findall(r'\\X', row[0])\n",
    "            i = 0\n",
    "            while i < len(emojiList):\n",
    "                emj = emojiList[i]\n",
    "                #emj = emj.encode('utf-16', 'surrogatepass').decode('utf-16')  # probably not necessary\n",
    "                if emj in flagSet:\n",
    "                    nextEmj = emojiList[i+1]\n",
    "                    nextEmj = nextEmj.encode('utf-16', 'surrogatepass').decode('utf-16')\n",
    "                    emj = emj + nextEmj\n",
    "                    i += 1\n",
    "                found = False\n",
    "                for catKey in GENERAL_CATEGORIES.keys():\n",
    "                    if found:\n",
    "                        break\n",
    "                    if emj in GENERAL_CATEGORIES[catKey]:\n",
    "                        if 'stats' not in GENERAL_CATEGORIES[catKey]:\n",
    "                            GENERAL_CATEGORIES[catKey]['stats'] = {\n",
    "                                'count': 1,\n",
    "                                'dates': [convertToPosix(row[3][:7])]\n",
    "                            }\n",
    "                        else:\n",
    "                            GENERAL_CATEGORIES[catKey]['stats']['count'] += 1\n",
    "                            GENERAL_CATEGORIES[catKey]['stats']['dates'].append(convertToPosix(row[3][:7]))\n",
    "                        # for individual emojis\n",
    "#                         if isinstance(GENERAL_CATEGORIES[catKey][emj], str):\n",
    "#                             GENERAL_CATEGORIES[catKey][emj] = {\n",
    "#                                 'count': 1,\n",
    "#                                 'dates_ms': [convertToPosix(row[3][:7])]\n",
    "#                             }\n",
    "#                         else:\n",
    "#                             GENERAL_CATEGORIES[catKey][emj]['count'] += 1\n",
    "#                             GENERAL_CATEGORIES[catKey][emj]['dates_ms'].append(convertToPosix(row[3][:7]))\n",
    "                        found = True\n",
    "                if not found:\n",
    "                    if emj not in toBeAdded:\n",
    "                        toBeAdded[emj] = 1\n",
    "                    else:\n",
    "                        toBeAdded[emj] += 1\n",
    "                i += 1\n",
    "        lineNumber += 1"
   ]
  },
  {
   "cell_type": "code",
   "execution_count": 20,
   "metadata": {},
   "outputs": [
    {
     "name": "stdout",
     "output_type": "stream",
     "text": [
      "{'🛍': 10, '⏱': 8, '⏲': 1, '🌧': 9, '☠': 11, '🛋': 3, '🏖': 12, '🌤': 10, '🌥': 7, '🏝': 6, '☀': 3, '➡': 5, '☁': 1, '🛤': 5, '🛏': 8, '⬇': 4, '🖋': 1, '⚜': 10, '⚰': 4, '🏟': 2, '🏞': 13, '🛩': 5, '⛈': 6, '🏛': 11, '✝': 2, '⛰': 11, '🛥': 5, '⛴': 3, '✂': 3, '✈': 11, '👁': 9, '☘': 6, '🏔': 11, '🌨': 5, '❄': 5, '▶': 1, '🅱': 1, '🕉': 1, '❣': 9, '🇱🇧': 1, '🕳': 3, '🕯': 8, '🏋': 9, '🛠': 2, '🌬': 5, '🕶': 10, '🌪': 3, '🛡': 2, '🌡': 3, '🛢': 5, '⛓': 3, '♻': 2, '⚔': 2, '🕊': 1, '🏙': 11, '🛎': 3, '🎖': 1, '⚱': 1, '☄': 1, '⛱': 1, '⚗': 1, '⛩': 2, '🎞': 1, '🖼': 6, '🕹': 4, '🏘': 2, '♥': 1, '🏍': 7, '🏚': 4, '🗡': 4, '🗺': 1, '🖥': 5, '☮': 1, '🗑': 10, '⚙': 2, '⚒': 1, '⛏': 1, '🖍': 3, '🗳': 1, '🗝': 3, '⬆': 1, '↪': 1, '🗃': 1, '⛹': 3, '🏳': 1, '🕸': 1, '🖌': 3, '🕷': 3, '⌨': 1, '⏯': 1, '⚖': 1, '🖨': 1, '✉': 1, '🌦': 2, '‼': 2, '7⃣': 1, '1⃣': 1, '☂': 1, '🕵': 2, '⏹': 1, '⚠': 1, '⤵': 1, '🗒': 1, '🏜': 2, '⬅': 1, '☸': 1, '🛣': 2, '🛳': 1, '2⃣': 1, '☢': 1}\n"
     ]
    }
   ],
   "source": [
    "print(toBeAdded)"
   ]
  },
  {
   "cell_type": "code",
   "execution_count": 7,
   "metadata": {},
   "outputs": [
    {
     "name": "stdout",
     "output_type": "stream",
     "text": [
      "face\n",
      "person\n",
      "body\n",
      "symbol\n",
      "nature\n",
      "food\n",
      "object\n",
      "place\n",
      "transport\n",
      "flag\n"
     ]
    }
   ],
   "source": [
    "monthCountsDict = getNewMonthDict()\n",
    "for cat in list(GENERAL_CATEGORIES.keys()):\n",
    "    print(cat)\n",
    "    stats = GENERAL_CATEGORIES[cat]['stats']\n",
    "    for monthKey in list(monthCountsDict.keys()):\n",
    "        monthCountsDict[monthKey][cat] = 0\n",
    "    for d in stats['dates']:\n",
    "        monthCountsDict[d][cat] += 1"
   ]
  },
  {
   "cell_type": "code",
   "execution_count": 8,
   "metadata": {},
   "outputs": [],
   "source": [
    "with open('Category Monthly Counts.csv', mode='w', encoding='utf-8', newline='') as file:\n",
    "    csv_writer = csv.writer(file, delimiter=',', quotechar='\"', quoting=csv.QUOTE_ALL)\n",
    "    csv_writer.writerow([\"month\"]+list(GENERAL_CATEGORIES.keys()))\n",
    "    for month in list(monthCountsDict.keys()):\n",
    "        csv_writer.writerow([month*1000] + list(monthCountsDict[month].values()))"
   ]
  },
  {
   "cell_type": "code",
   "execution_count": null,
   "metadata": {
    "collapsed": true
   },
   "outputs": [],
   "source": []
  }
 ],
 "metadata": {
  "kernelspec": {
   "display_name": "Python 3",
   "language": "python",
   "name": "python3"
  },
  "language_info": {
   "codemirror_mode": {
    "name": "ipython",
    "version": 3
   },
   "file_extension": ".py",
   "mimetype": "text/x-python",
   "name": "python",
   "nbconvert_exporter": "python",
   "pygments_lexer": "ipython3",
   "version": "3.6.3"
  }
 },
 "nbformat": 4,
 "nbformat_minor": 2
}
