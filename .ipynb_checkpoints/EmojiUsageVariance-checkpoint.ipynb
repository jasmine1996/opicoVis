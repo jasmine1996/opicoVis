{
 "cells": [
  {
   "cell_type": "code",
   "execution_count": 1,
   "metadata": {
    "collapsed": true
   },
   "outputs": [],
   "source": [
    "import csv\n",
    "import json\n",
    "import emoji\n",
    "import regex\n",
    "import numpy"
   ]
  },
  {
   "cell_type": "code",
   "execution_count": 2,
   "metadata": {
    "collapsed": true
   },
   "outputs": [],
   "source": [
    "flagLetters = ['🇦', '🇧', '🇨', '🇩', '🇪', '🇫', '🇬', '🇭', '🇮', '🇯', '🇰', '🇱', '🇲', '🇳', '🇴', '🇵', '🇶', '🇷', '🇸', '🇹', '🇺', '🇻', '🇼', '🇽', '🇾', '🇿']\n",
    "flagSet = set(flagLetters)"
   ]
  },
  {
   "cell_type": "code",
   "execution_count": 3,
   "metadata": {
    "collapsed": true
   },
   "outputs": [],
   "source": [
    "userDict = {}\n",
    "emojiDict = {}\n",
    "lineNumber = 0\n",
    "with open(\"Emoji Reviews.csv\", mode='r', encoding='utf-8') as csv_file:\n",
    "    csv_reader = csv.reader(csv_file, delimiter=',')\n",
    "    for row in csv_reader:\n",
    "        if lineNumber > 0:\n",
    "            emojiList = regex.findall(r'\\X', row[0])\n",
    "            i = 0\n",
    "            while i < len(emojiList):\n",
    "                emj = emojiList[i]\n",
    "                emj = emj.encode('utf-16', 'surrogatepass').decode('utf-16')  # probably not necessary\n",
    "                if emj in flagSet:\n",
    "                    nextEmj = emojiList[i+1]\n",
    "                    nextEmj = nextEmj.encode('utf-16', 'surrogatepass').decode('utf-16')\n",
    "                    emj = emj + nextEmj\n",
    "                    i += 1\n",
    "                if emj not in emojiDict:\n",
    "                    emojiDict[emj] = {\n",
    "                        \"emoji\": emj,\n",
    "                        \"count\": 1\n",
    "                    }\n",
    "                else:\n",
    "                    emojiDict[emj][\"count\"] += 1\n",
    "                i += 1\n",
    "            \n",
    "            if row[2] not in userDict:\n",
    "                userDict[row[2]] = {\n",
    "                    \"user_id\": row[2],\n",
    "                    \"reactions\": [row[0]]\n",
    "                }\n",
    "            else:\n",
    "                userDict[row[2]][\"reactions\"].append(row[0])\n",
    "                \n",
    "        lineNumber += 1"
   ]
  },
  {
   "cell_type": "code",
   "execution_count": 4,
   "metadata": {
    "collapsed": true
   },
   "outputs": [],
   "source": [
    "for user in list(userDict.keys()):\n",
    "    eDict = {}\n",
    "    totalEmojis = 0\n",
    "    for reaction in userDict[user][\"reactions\"]:\n",
    "        emojiList = regex.findall(r'\\X', reaction)\n",
    "        i = 0\n",
    "        while i < len(emojiList):\n",
    "            emj = emojiList[i]\n",
    "            emj = emj.encode('utf-16', 'surrogatepass').decode('utf-16')  # probably not necessary\n",
    "            if emj in flagSet:\n",
    "                nextEmj = emojiList[i+1]\n",
    "                nextEmj = nextEmj.encode('utf-16', 'surrogatepass').decode('utf-16')\n",
    "                emj = emj + nextEmj\n",
    "                i += 1\n",
    "            if emj not in eDict:\n",
    "                eDict[emj] = {\n",
    "                    \"emoji\": emj,\n",
    "                    \"count\": 1\n",
    "                }\n",
    "            else:\n",
    "                eDict[emj][\"count\"] += 1\n",
    "            i += 1\n",
    "            totalEmojis += 1\n",
    "    userDict[user][\"emoji_dict\"] = eDict\n",
    "    userDict[user][\"count\"] = totalEmojis"
   ]
  },
  {
   "cell_type": "code",
   "execution_count": 5,
   "metadata": {
    "collapsed": true
   },
   "outputs": [],
   "source": [
    "emojiList = list(emojiDict.values())\n",
    "def byCount(elem):\n",
    "    return elem[\"count\"]\n",
    "emojiList.sort(key=byCount)\n",
    "emojiList.reverse()\n",
    "\n",
    "userList = list(userDict.values())\n",
    "userList.sort(key=byCount)\n",
    "userList.reverse()"
   ]
  },
  {
   "cell_type": "code",
   "execution_count": 7,
   "metadata": {
    "collapsed": true
   },
   "outputs": [],
   "source": [
    "userEmojiMatrix = []\n",
    "for userObj in userList:\n",
    "    userEmojis = []\n",
    "    for emojiObj in emojiList:\n",
    "        emoji = emojiObj[\"emoji\"]\n",
    "        if emoji in userObj[\"emoji_dict\"]:\n",
    "            userEmojis.append(userObj[\"emoji_dict\"][emoji][\"count\"])\n",
    "        else:\n",
    "            userEmojis.append(0)\n",
    "    userEmojiMatrix.append(userEmojis)"
   ]
  },
  {
   "cell_type": "code",
   "execution_count": 8,
   "metadata": {},
   "outputs": [],
   "source": [
    "matrix = numpy.array(userEmojiMatrix)\n",
    "varianceInEmojis = numpy.var(matrix, axis=0)\n",
    "varianceInUsers = numpy.var(matrix, axis=1)"
   ]
  },
  {
   "cell_type": "code",
   "execution_count": 9,
   "metadata": {},
   "outputs": [
    {
     "name": "stdout",
     "output_type": "stream",
     "text": [
      "[22.54725835 15.6219737  17.98151389 11.66770739  8.55168158  2.21660472\n",
      "  3.54921906  1.87971081  1.10057081  3.42905532  3.10386496  1.59154528\n",
      "  1.6131839   1.04532698  1.9824123   1.5065529   5.74099217  0.90448373\n",
      "  1.30203214  1.41050446  0.86556093  0.79159222  1.36833202  2.97254805\n",
      "  0.90222153  1.51707476  0.6712828   0.97200172  1.48893282  1.28238458\n",
      "  0.65214515  1.22682509  0.83991186  3.56076073  1.32000024  0.63541133\n",
      "  0.67148919  0.47905238  0.96269392  0.51796305  1.39044008  0.89826369\n",
      "  1.52326647  0.61003745  0.72573749  0.748489    1.04909461  1.75179732\n",
      "  0.57683288  0.82046664]\n",
      "[21.75720796  9.40908447 13.09948094  8.04817653  4.40106769  4.10639826\n",
      "  3.3347943   5.07505525  1.6159513   1.64168571  5.02064677  1.42213852\n",
      "  0.69664116  1.46204859  1.54873014  1.05719811  0.75382432  0.67213852\n",
      "  2.64445153  1.29578495  0.52999608  0.94139739  0.38438862  0.5877954\n",
      "  0.87842738  0.37991548  0.43740644  0.75827255  0.55505731  0.45215951\n",
      "  0.2718409   0.32494896  0.36104412  0.49794889  0.31417355  0.31770612\n",
      "  0.22934382  0.38529653  0.17038635  0.34984189  0.25697489  0.15071393\n",
      "  0.2491181   0.15562498  0.33209104  0.12175586  0.18895266  0.2225494\n",
      "  0.16390251  0.23361102  0.12135893  0.11876805  0.1950285   0.20562232\n",
      "  0.1178247   0.07666292  0.11237721  0.06938189  0.06507261  0.16559488\n",
      "  0.25718748  0.10473135  0.20673839  0.12935744  0.08932059  0.10271345\n",
      "  0.32606503  0.11705463  0.14235225  0.0664594   0.05982885  0.06820437\n",
      "  0.09647817  0.07198605  0.09659997  0.07725473  0.12933806  0.14273092\n",
      "  0.10106425  0.06249114  0.04543507  0.09156602  0.06340293  0.07312925\n",
      "  0.04783163  0.07015306  0.11479592  0.05835238  0.05249965  0.06142822\n",
      "  0.11430376  0.10537519  0.06003534  0.08384487  0.06449963  0.05636105\n",
      "  0.06835439  0.02966392  0.07281868  0.06984249]\n"
     ]
    }
   ],
   "source": [
    "print(varianceInEmojis[:50])\n",
    "print(varianceInUsers[:100])"
   ]
  },
  {
   "cell_type": "code",
   "execution_count": 10,
   "metadata": {},
   "outputs": [
    {
     "name": "stdout",
     "output_type": "stream",
     "text": [
      "[128.4139  83.8684 101.3616  66.3571  53.8956  11.2379  21.1499   9.7451\n",
      "   5.0091  21.1059  18.4779   8.0344   8.3939   4.2436  11.51     8.2899\n",
      "  38.2899   4.74     7.2075   8.1976   4.4675   3.7451   7.8704  19.12\n",
      "   4.7656   9.2931   3.0091   5.1339   8.9875   6.8275   3.3579   7.2459\n",
      "   4.5964  23.5859   7.8744   3.34     3.4796   2.2875   5.6184   2.5251\n",
      "   8.6379   5.1875   9.5604   3.2675   4.0899   4.2164   6.2731  11.23\n",
      "   3.0936   4.8075]\n"
     ]
    }
   ],
   "source": [
    "print(numpy.var(matrix[:100, :50], axis=0))"
   ]
  },
  {
   "cell_type": "code",
   "execution_count": null,
   "metadata": {
    "collapsed": true
   },
   "outputs": [],
   "source": []
  }
 ],
 "metadata": {
  "kernelspec": {
   "display_name": "Python 3",
   "language": "python",
   "name": "python3"
  },
  "language_info": {
   "codemirror_mode": {
    "name": "ipython",
    "version": 3
   },
   "file_extension": ".py",
   "mimetype": "text/x-python",
   "name": "python",
   "nbconvert_exporter": "python",
   "pygments_lexer": "ipython3",
   "version": "3.6.3"
  }
 },
 "nbformat": 4,
 "nbformat_minor": 2
}
